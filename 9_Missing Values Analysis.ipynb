{
 "cells": [
  {
   "cell_type": "code",
   "execution_count": 2,
   "id": "39ff9770",
   "metadata": {},
   "outputs": [],
   "source": [
    "import numpy as np\n",
    "import pandas as pd\n",
    "import matplotlib.pyplot as plt\n",
    "import seaborn as sns"
   ]
  },
  {
   "cell_type": "code",
   "execution_count": 5,
   "id": "18394b87",
   "metadata": {},
   "outputs": [],
   "source": [
    "dict1={'Names':['Ramesh','Suresh',np.nan,'Mahesh','Sathish'],\n",
    "       'Age':[31,32,33,np.nan,40],\n",
    "      'City':[np.nan,'Hyderabad','Pune','Mumbai','Chennai']}"
   ]
  },
  {
   "cell_type": "code",
   "execution_count": 7,
   "id": "479a950f",
   "metadata": {},
   "outputs": [
    {
     "data": {
      "text/html": [
       "<div>\n",
       "<style scoped>\n",
       "    .dataframe tbody tr th:only-of-type {\n",
       "        vertical-align: middle;\n",
       "    }\n",
       "\n",
       "    .dataframe tbody tr th {\n",
       "        vertical-align: top;\n",
       "    }\n",
       "\n",
       "    .dataframe thead th {\n",
       "        text-align: right;\n",
       "    }\n",
       "</style>\n",
       "<table border=\"1\" class=\"dataframe\">\n",
       "  <thead>\n",
       "    <tr style=\"text-align: right;\">\n",
       "      <th></th>\n",
       "      <th>Names</th>\n",
       "      <th>Age</th>\n",
       "      <th>City</th>\n",
       "    </tr>\n",
       "  </thead>\n",
       "  <tbody>\n",
       "    <tr>\n",
       "      <th>0</th>\n",
       "      <td>Ramesh</td>\n",
       "      <td>31.0</td>\n",
       "      <td>NaN</td>\n",
       "    </tr>\n",
       "    <tr>\n",
       "      <th>1</th>\n",
       "      <td>Suresh</td>\n",
       "      <td>32.0</td>\n",
       "      <td>Hyderabad</td>\n",
       "    </tr>\n",
       "    <tr>\n",
       "      <th>2</th>\n",
       "      <td>NaN</td>\n",
       "      <td>33.0</td>\n",
       "      <td>Pune</td>\n",
       "    </tr>\n",
       "    <tr>\n",
       "      <th>3</th>\n",
       "      <td>Mahesh</td>\n",
       "      <td>NaN</td>\n",
       "      <td>Mumbai</td>\n",
       "    </tr>\n",
       "    <tr>\n",
       "      <th>4</th>\n",
       "      <td>Sathish</td>\n",
       "      <td>40.0</td>\n",
       "      <td>Chennai</td>\n",
       "    </tr>\n",
       "  </tbody>\n",
       "</table>\n",
       "</div>"
      ],
      "text/plain": [
       "     Names   Age       City\n",
       "0   Ramesh  31.0        NaN\n",
       "1   Suresh  32.0  Hyderabad\n",
       "2      NaN  33.0       Pune\n",
       "3   Mahesh   NaN     Mumbai\n",
       "4  Sathish  40.0    Chennai"
      ]
     },
     "execution_count": 7,
     "metadata": {},
     "output_type": "execute_result"
    }
   ],
   "source": [
    "data1=pd.DataFrame(dict1)\n",
    "data1"
   ]
  },
  {
   "cell_type": "code",
   "execution_count": 8,
   "id": "10b4d273",
   "metadata": {},
   "outputs": [
    {
     "data": {
      "text/html": [
       "<div>\n",
       "<style scoped>\n",
       "    .dataframe tbody tr th:only-of-type {\n",
       "        vertical-align: middle;\n",
       "    }\n",
       "\n",
       "    .dataframe tbody tr th {\n",
       "        vertical-align: top;\n",
       "    }\n",
       "\n",
       "    .dataframe thead th {\n",
       "        text-align: right;\n",
       "    }\n",
       "</style>\n",
       "<table border=\"1\" class=\"dataframe\">\n",
       "  <thead>\n",
       "    <tr style=\"text-align: right;\">\n",
       "      <th></th>\n",
       "      <th>Names</th>\n",
       "      <th>Age</th>\n",
       "      <th>City</th>\n",
       "    </tr>\n",
       "  </thead>\n",
       "  <tbody>\n",
       "    <tr>\n",
       "      <th>0</th>\n",
       "      <td>False</td>\n",
       "      <td>False</td>\n",
       "      <td>True</td>\n",
       "    </tr>\n",
       "    <tr>\n",
       "      <th>1</th>\n",
       "      <td>False</td>\n",
       "      <td>False</td>\n",
       "      <td>False</td>\n",
       "    </tr>\n",
       "    <tr>\n",
       "      <th>2</th>\n",
       "      <td>True</td>\n",
       "      <td>False</td>\n",
       "      <td>False</td>\n",
       "    </tr>\n",
       "    <tr>\n",
       "      <th>3</th>\n",
       "      <td>False</td>\n",
       "      <td>True</td>\n",
       "      <td>False</td>\n",
       "    </tr>\n",
       "    <tr>\n",
       "      <th>4</th>\n",
       "      <td>False</td>\n",
       "      <td>False</td>\n",
       "      <td>False</td>\n",
       "    </tr>\n",
       "  </tbody>\n",
       "</table>\n",
       "</div>"
      ],
      "text/plain": [
       "   Names    Age   City\n",
       "0  False  False   True\n",
       "1  False  False  False\n",
       "2   True  False  False\n",
       "3  False   True  False\n",
       "4  False  False  False"
      ]
     },
     "execution_count": 8,
     "metadata": {},
     "output_type": "execute_result"
    }
   ],
   "source": [
    "data1.isnull()"
   ]
  },
  {
   "cell_type": "code",
   "execution_count": 9,
   "id": "2e6c9f0e",
   "metadata": {},
   "outputs": [
    {
     "data": {
      "text/plain": [
       "Names    1\n",
       "Age      1\n",
       "City     1\n",
       "dtype: int64"
      ]
     },
     "execution_count": 9,
     "metadata": {},
     "output_type": "execute_result"
    }
   ],
   "source": [
    "data1.isnull().sum() # Every column as 1 missing value"
   ]
  },
  {
   "cell_type": "code",
   "execution_count": 11,
   "id": "7438a12a",
   "metadata": {},
   "outputs": [
    {
     "data": {
      "text/plain": [
       "Names    20.0\n",
       "Age      20.0\n",
       "City     20.0\n",
       "dtype: float64"
      ]
     },
     "execution_count": 11,
     "metadata": {},
     "output_type": "execute_result"
    }
   ],
   "source": [
    "data1.isnull().sum()*100/len(data1)    # Percentage of missing values"
   ]
  },
  {
   "cell_type": "code",
   "execution_count": 13,
   "id": "e7054d92",
   "metadata": {},
   "outputs": [
    {
     "data": {
      "text/html": [
       "<div>\n",
       "<style scoped>\n",
       "    .dataframe tbody tr th:only-of-type {\n",
       "        vertical-align: middle;\n",
       "    }\n",
       "\n",
       "    .dataframe tbody tr th {\n",
       "        vertical-align: top;\n",
       "    }\n",
       "\n",
       "    .dataframe thead th {\n",
       "        text-align: right;\n",
       "    }\n",
       "</style>\n",
       "<table border=\"1\" class=\"dataframe\">\n",
       "  <thead>\n",
       "    <tr style=\"text-align: right;\">\n",
       "      <th></th>\n",
       "      <th>Names</th>\n",
       "      <th>Age</th>\n",
       "      <th>City</th>\n",
       "    </tr>\n",
       "  </thead>\n",
       "  <tbody>\n",
       "    <tr>\n",
       "      <th>0</th>\n",
       "      <td>Ramesh</td>\n",
       "      <td>31.0</td>\n",
       "      <td>None</td>\n",
       "    </tr>\n",
       "    <tr>\n",
       "      <th>1</th>\n",
       "      <td>Suresh</td>\n",
       "      <td>32.0</td>\n",
       "      <td>Hyderabad</td>\n",
       "    </tr>\n",
       "    <tr>\n",
       "      <th>2</th>\n",
       "      <td>None</td>\n",
       "      <td>33.0</td>\n",
       "      <td>Mumbai</td>\n",
       "    </tr>\n",
       "    <tr>\n",
       "      <th>3</th>\n",
       "      <td>Mahesh</td>\n",
       "      <td>NaN</td>\n",
       "      <td>Chennai</td>\n",
       "    </tr>\n",
       "  </tbody>\n",
       "</table>\n",
       "</div>"
      ],
      "text/plain": [
       "    Names   Age       City\n",
       "0  Ramesh  31.0       None\n",
       "1  Suresh  32.0  Hyderabad\n",
       "2    None  33.0     Mumbai\n",
       "3  Mahesh   NaN    Chennai"
      ]
     },
     "execution_count": 13,
     "metadata": {},
     "output_type": "execute_result"
    }
   ],
   "source": [
    "dict2={'Names':['Ramesh','Suresh',None,'Mahesh'],\n",
    "       'Age':[31,32,33,None],\n",
    "      'City':[None,'Hyderabad','Mumbai','Chennai']}\n",
    "data2=pd.DataFrame(dict2)\n",
    "data2                        "
   ]
  },
  {
   "cell_type": "code",
   "execution_count": 15,
   "id": "13ba0147",
   "metadata": {},
   "outputs": [
    {
     "data": {
      "text/plain": [
       "Names    1\n",
       "Age      1\n",
       "City     1\n",
       "dtype: int64"
      ]
     },
     "execution_count": 15,
     "metadata": {},
     "output_type": "execute_result"
    }
   ],
   "source": [
    "data2.isnull().sum()"
   ]
  },
  {
   "cell_type": "code",
   "execution_count": 16,
   "id": "4b68fd5a",
   "metadata": {},
   "outputs": [],
   "source": [
    "# Categorical : None , NaN\n",
    "# Numerical : NaN"
   ]
  },
  {
   "cell_type": "code",
   "execution_count": 17,
   "id": "8946b43e",
   "metadata": {},
   "outputs": [
    {
     "data": {
      "text/html": [
       "<div>\n",
       "<style scoped>\n",
       "    .dataframe tbody tr th:only-of-type {\n",
       "        vertical-align: middle;\n",
       "    }\n",
       "\n",
       "    .dataframe tbody tr th {\n",
       "        vertical-align: top;\n",
       "    }\n",
       "\n",
       "    .dataframe thead th {\n",
       "        text-align: right;\n",
       "    }\n",
       "</style>\n",
       "<table border=\"1\" class=\"dataframe\">\n",
       "  <thead>\n",
       "    <tr style=\"text-align: right;\">\n",
       "      <th></th>\n",
       "      <th>Names</th>\n",
       "      <th>Age</th>\n",
       "      <th>City</th>\n",
       "    </tr>\n",
       "  </thead>\n",
       "  <tbody>\n",
       "    <tr>\n",
       "      <th>0</th>\n",
       "      <td>Ramesh</td>\n",
       "      <td>31</td>\n",
       "      <td>Null</td>\n",
       "    </tr>\n",
       "    <tr>\n",
       "      <th>1</th>\n",
       "      <td>Suresh</td>\n",
       "      <td>32</td>\n",
       "      <td>Hyderabad</td>\n",
       "    </tr>\n",
       "    <tr>\n",
       "      <th>2</th>\n",
       "      <td>Null</td>\n",
       "      <td>33</td>\n",
       "      <td>Mumbai</td>\n",
       "    </tr>\n",
       "    <tr>\n",
       "      <th>3</th>\n",
       "      <td>Mahesh</td>\n",
       "      <td>Null</td>\n",
       "      <td>Chennai</td>\n",
       "    </tr>\n",
       "  </tbody>\n",
       "</table>\n",
       "</div>"
      ],
      "text/plain": [
       "    Names   Age       City\n",
       "0  Ramesh    31       Null\n",
       "1  Suresh    32  Hyderabad\n",
       "2    Null    33     Mumbai\n",
       "3  Mahesh  Null    Chennai"
      ]
     },
     "execution_count": 17,
     "metadata": {},
     "output_type": "execute_result"
    }
   ],
   "source": [
    "dict3={'Names':['Ramesh','Suresh','Null','Mahesh'],\n",
    "       'Age':[31,32,33,'Null'],\n",
    "      'City':['Null','Hyderabad','Mumbai','Chennai']}\n",
    "data3=pd.DataFrame(dict3)\n",
    "data3       "
   ]
  },
  {
   "cell_type": "code",
   "execution_count": 19,
   "id": "e8464d83",
   "metadata": {},
   "outputs": [
    {
     "data": {
      "text/plain": [
       "Names    0\n",
       "Age      0\n",
       "City     0\n",
       "dtype: int64"
      ]
     },
     "execution_count": 19,
     "metadata": {},
     "output_type": "execute_result"
    }
   ],
   "source": [
    "data3.isnull().sum()"
   ]
  },
  {
   "cell_type": "markdown",
   "id": "f8815e4e",
   "metadata": {},
   "source": [
    "$Method-1$\n",
    ">Fill the missing values with random number\n",
    "##### Method name: fillna"
   ]
  },
  {
   "cell_type": "code",
   "execution_count": 22,
   "id": "c59df733",
   "metadata": {},
   "outputs": [
    {
     "data": {
      "text/html": [
       "<div>\n",
       "<style scoped>\n",
       "    .dataframe tbody tr th:only-of-type {\n",
       "        vertical-align: middle;\n",
       "    }\n",
       "\n",
       "    .dataframe tbody tr th {\n",
       "        vertical-align: top;\n",
       "    }\n",
       "\n",
       "    .dataframe thead th {\n",
       "        text-align: right;\n",
       "    }\n",
       "</style>\n",
       "<table border=\"1\" class=\"dataframe\">\n",
       "  <thead>\n",
       "    <tr style=\"text-align: right;\">\n",
       "      <th></th>\n",
       "      <th>Names</th>\n",
       "      <th>Age</th>\n",
       "      <th>City</th>\n",
       "    </tr>\n",
       "  </thead>\n",
       "  <tbody>\n",
       "    <tr>\n",
       "      <th>0</th>\n",
       "      <td>Ramesh</td>\n",
       "      <td>31.0</td>\n",
       "      <td>Hello</td>\n",
       "    </tr>\n",
       "    <tr>\n",
       "      <th>1</th>\n",
       "      <td>Suresh</td>\n",
       "      <td>32.0</td>\n",
       "      <td>Hyderabad</td>\n",
       "    </tr>\n",
       "    <tr>\n",
       "      <th>2</th>\n",
       "      <td>Hello</td>\n",
       "      <td>33.0</td>\n",
       "      <td>Pune</td>\n",
       "    </tr>\n",
       "    <tr>\n",
       "      <th>3</th>\n",
       "      <td>Mahesh</td>\n",
       "      <td>Hello</td>\n",
       "      <td>Mumbai</td>\n",
       "    </tr>\n",
       "    <tr>\n",
       "      <th>4</th>\n",
       "      <td>Sathish</td>\n",
       "      <td>40.0</td>\n",
       "      <td>Chennai</td>\n",
       "    </tr>\n",
       "  </tbody>\n",
       "</table>\n",
       "</div>"
      ],
      "text/plain": [
       "     Names    Age       City\n",
       "0   Ramesh   31.0      Hello\n",
       "1   Suresh   32.0  Hyderabad\n",
       "2    Hello   33.0       Pune\n",
       "3   Mahesh  Hello     Mumbai\n",
       "4  Sathish   40.0    Chennai"
      ]
     },
     "execution_count": 22,
     "metadata": {},
     "output_type": "execute_result"
    }
   ],
   "source": [
    "data1.fillna('Hello')   # All the missing data is replaced with random value"
   ]
  },
  {
   "cell_type": "markdown",
   "id": "dbe8d8b6",
   "metadata": {},
   "source": [
    "$Method-2$\n",
    ">Fill the missing values with random number to a specific column"
   ]
  },
  {
   "cell_type": "code",
   "execution_count": 23,
   "id": "15c97e57",
   "metadata": {},
   "outputs": [
    {
     "data": {
      "text/html": [
       "<div>\n",
       "<style scoped>\n",
       "    .dataframe tbody tr th:only-of-type {\n",
       "        vertical-align: middle;\n",
       "    }\n",
       "\n",
       "    .dataframe tbody tr th {\n",
       "        vertical-align: top;\n",
       "    }\n",
       "\n",
       "    .dataframe thead th {\n",
       "        text-align: right;\n",
       "    }\n",
       "</style>\n",
       "<table border=\"1\" class=\"dataframe\">\n",
       "  <thead>\n",
       "    <tr style=\"text-align: right;\">\n",
       "      <th></th>\n",
       "      <th>Names</th>\n",
       "      <th>Age</th>\n",
       "      <th>City</th>\n",
       "    </tr>\n",
       "  </thead>\n",
       "  <tbody>\n",
       "    <tr>\n",
       "      <th>0</th>\n",
       "      <td>Ramesh</td>\n",
       "      <td>31.0</td>\n",
       "      <td>NaN</td>\n",
       "    </tr>\n",
       "    <tr>\n",
       "      <th>1</th>\n",
       "      <td>Suresh</td>\n",
       "      <td>32.0</td>\n",
       "      <td>Hyderabad</td>\n",
       "    </tr>\n",
       "    <tr>\n",
       "      <th>2</th>\n",
       "      <td>Sandeep</td>\n",
       "      <td>33.0</td>\n",
       "      <td>Pune</td>\n",
       "    </tr>\n",
       "    <tr>\n",
       "      <th>3</th>\n",
       "      <td>Mahesh</td>\n",
       "      <td>NaN</td>\n",
       "      <td>Mumbai</td>\n",
       "    </tr>\n",
       "    <tr>\n",
       "      <th>4</th>\n",
       "      <td>Sathish</td>\n",
       "      <td>40.0</td>\n",
       "      <td>Chennai</td>\n",
       "    </tr>\n",
       "  </tbody>\n",
       "</table>\n",
       "</div>"
      ],
      "text/plain": [
       "     Names   Age       City\n",
       "0   Ramesh  31.0        NaN\n",
       "1   Suresh  32.0  Hyderabad\n",
       "2  Sandeep  33.0       Pune\n",
       "3   Mahesh   NaN     Mumbai\n",
       "4  Sathish  40.0    Chennai"
      ]
     },
     "execution_count": 23,
     "metadata": {},
     "output_type": "execute_result"
    }
   ],
   "source": [
    "data1['Names'].fillna('Sandeep',inplace=True) # By \n",
    "data1"
   ]
  },
  {
   "cell_type": "code",
   "execution_count": 24,
   "id": "ebccc0de",
   "metadata": {},
   "outputs": [
    {
     "data": {
      "text/html": [
       "<div>\n",
       "<style scoped>\n",
       "    .dataframe tbody tr th:only-of-type {\n",
       "        vertical-align: middle;\n",
       "    }\n",
       "\n",
       "    .dataframe tbody tr th {\n",
       "        vertical-align: top;\n",
       "    }\n",
       "\n",
       "    .dataframe thead th {\n",
       "        text-align: right;\n",
       "    }\n",
       "</style>\n",
       "<table border=\"1\" class=\"dataframe\">\n",
       "  <thead>\n",
       "    <tr style=\"text-align: right;\">\n",
       "      <th></th>\n",
       "      <th>Names</th>\n",
       "      <th>Age</th>\n",
       "      <th>City</th>\n",
       "    </tr>\n",
       "  </thead>\n",
       "  <tbody>\n",
       "    <tr>\n",
       "      <th>0</th>\n",
       "      <td>Ramesh</td>\n",
       "      <td>31.0</td>\n",
       "      <td>NaN</td>\n",
       "    </tr>\n",
       "    <tr>\n",
       "      <th>1</th>\n",
       "      <td>Suresh</td>\n",
       "      <td>32.0</td>\n",
       "      <td>Hyderabad</td>\n",
       "    </tr>\n",
       "    <tr>\n",
       "      <th>2</th>\n",
       "      <td>NaN</td>\n",
       "      <td>33.0</td>\n",
       "      <td>Pune</td>\n",
       "    </tr>\n",
       "    <tr>\n",
       "      <th>3</th>\n",
       "      <td>Mahesh</td>\n",
       "      <td>NaN</td>\n",
       "      <td>Mumbai</td>\n",
       "    </tr>\n",
       "    <tr>\n",
       "      <th>4</th>\n",
       "      <td>Sathish</td>\n",
       "      <td>40.0</td>\n",
       "      <td>Chennai</td>\n",
       "    </tr>\n",
       "  </tbody>\n",
       "</table>\n",
       "</div>"
      ],
      "text/plain": [
       "     Names   Age       City\n",
       "0   Ramesh  31.0        NaN\n",
       "1   Suresh  32.0  Hyderabad\n",
       "2      NaN  33.0       Pune\n",
       "3   Mahesh   NaN     Mumbai\n",
       "4  Sathish  40.0    Chennai"
      ]
     },
     "execution_count": 24,
     "metadata": {},
     "output_type": "execute_result"
    }
   ],
   "source": [
    "dict1={'Names':['Ramesh','Suresh',np.nan,'Mahesh','Sathish'],\n",
    "       'Age':[31,32,33,np.nan,40],\n",
    "      'City':[np.nan,'Hyderabad','Pune','Mumbai','Chennai']}\n",
    "data1=pd.DataFrame(dict1)\n",
    "data1"
   ]
  },
  {
   "cell_type": "markdown",
   "id": "773615f9",
   "metadata": {},
   "source": [
    "$Method-3$\n",
    ">- bfill\n",
    ">- ffill\n",
    ">- pad\n",
    ">- backfill"
   ]
  },
  {
   "cell_type": "code",
   "execution_count": 26,
   "id": "cc1236b5",
   "metadata": {},
   "outputs": [
    {
     "data": {
      "text/html": [
       "<div>\n",
       "<style scoped>\n",
       "    .dataframe tbody tr th:only-of-type {\n",
       "        vertical-align: middle;\n",
       "    }\n",
       "\n",
       "    .dataframe tbody tr th {\n",
       "        vertical-align: top;\n",
       "    }\n",
       "\n",
       "    .dataframe thead th {\n",
       "        text-align: right;\n",
       "    }\n",
       "</style>\n",
       "<table border=\"1\" class=\"dataframe\">\n",
       "  <thead>\n",
       "    <tr style=\"text-align: right;\">\n",
       "      <th></th>\n",
       "      <th>Names</th>\n",
       "      <th>Age</th>\n",
       "      <th>City</th>\n",
       "    </tr>\n",
       "  </thead>\n",
       "  <tbody>\n",
       "    <tr>\n",
       "      <th>0</th>\n",
       "      <td>Ramesh</td>\n",
       "      <td>31.0</td>\n",
       "      <td>Hyderabad</td>\n",
       "    </tr>\n",
       "    <tr>\n",
       "      <th>1</th>\n",
       "      <td>Suresh</td>\n",
       "      <td>32.0</td>\n",
       "      <td>Hyderabad</td>\n",
       "    </tr>\n",
       "    <tr>\n",
       "      <th>2</th>\n",
       "      <td>Mahesh</td>\n",
       "      <td>33.0</td>\n",
       "      <td>Pune</td>\n",
       "    </tr>\n",
       "    <tr>\n",
       "      <th>3</th>\n",
       "      <td>Mahesh</td>\n",
       "      <td>40.0</td>\n",
       "      <td>Mumbai</td>\n",
       "    </tr>\n",
       "    <tr>\n",
       "      <th>4</th>\n",
       "      <td>Sathish</td>\n",
       "      <td>40.0</td>\n",
       "      <td>Chennai</td>\n",
       "    </tr>\n",
       "  </tbody>\n",
       "</table>\n",
       "</div>"
      ],
      "text/plain": [
       "     Names   Age       City\n",
       "0   Ramesh  31.0  Hyderabad\n",
       "1   Suresh  32.0  Hyderabad\n",
       "2   Mahesh  33.0       Pune\n",
       "3   Mahesh  40.0     Mumbai\n",
       "4  Sathish  40.0    Chennai"
      ]
     },
     "execution_count": 26,
     "metadata": {},
     "output_type": "execute_result"
    }
   ],
   "source": [
    "data1.fillna(method='backfill')\n",
    "# Fills with the next index values"
   ]
  },
  {
   "cell_type": "code",
   "execution_count": 27,
   "id": "5ba90b85",
   "metadata": {},
   "outputs": [
    {
     "data": {
      "text/html": [
       "<div>\n",
       "<style scoped>\n",
       "    .dataframe tbody tr th:only-of-type {\n",
       "        vertical-align: middle;\n",
       "    }\n",
       "\n",
       "    .dataframe tbody tr th {\n",
       "        vertical-align: top;\n",
       "    }\n",
       "\n",
       "    .dataframe thead th {\n",
       "        text-align: right;\n",
       "    }\n",
       "</style>\n",
       "<table border=\"1\" class=\"dataframe\">\n",
       "  <thead>\n",
       "    <tr style=\"text-align: right;\">\n",
       "      <th></th>\n",
       "      <th>Names</th>\n",
       "      <th>Age</th>\n",
       "      <th>City</th>\n",
       "    </tr>\n",
       "  </thead>\n",
       "  <tbody>\n",
       "    <tr>\n",
       "      <th>0</th>\n",
       "      <td>Ramesh</td>\n",
       "      <td>31.0</td>\n",
       "      <td>Hyderabad</td>\n",
       "    </tr>\n",
       "    <tr>\n",
       "      <th>1</th>\n",
       "      <td>Suresh</td>\n",
       "      <td>32.0</td>\n",
       "      <td>Hyderabad</td>\n",
       "    </tr>\n",
       "    <tr>\n",
       "      <th>2</th>\n",
       "      <td>Mahesh</td>\n",
       "      <td>33.0</td>\n",
       "      <td>Pune</td>\n",
       "    </tr>\n",
       "    <tr>\n",
       "      <th>3</th>\n",
       "      <td>Mahesh</td>\n",
       "      <td>40.0</td>\n",
       "      <td>Mumbai</td>\n",
       "    </tr>\n",
       "    <tr>\n",
       "      <th>4</th>\n",
       "      <td>Sathish</td>\n",
       "      <td>40.0</td>\n",
       "      <td>Chennai</td>\n",
       "    </tr>\n",
       "  </tbody>\n",
       "</table>\n",
       "</div>"
      ],
      "text/plain": [
       "     Names   Age       City\n",
       "0   Ramesh  31.0  Hyderabad\n",
       "1   Suresh  32.0  Hyderabad\n",
       "2   Mahesh  33.0       Pune\n",
       "3   Mahesh  40.0     Mumbai\n",
       "4  Sathish  40.0    Chennai"
      ]
     },
     "execution_count": 27,
     "metadata": {},
     "output_type": "execute_result"
    }
   ],
   "source": [
    "data1.fillna(method='bfill')  # bfill and backfill are same"
   ]
  },
  {
   "cell_type": "code",
   "execution_count": 28,
   "id": "ba7a7d45",
   "metadata": {},
   "outputs": [
    {
     "data": {
      "text/html": [
       "<div>\n",
       "<style scoped>\n",
       "    .dataframe tbody tr th:only-of-type {\n",
       "        vertical-align: middle;\n",
       "    }\n",
       "\n",
       "    .dataframe tbody tr th {\n",
       "        vertical-align: top;\n",
       "    }\n",
       "\n",
       "    .dataframe thead th {\n",
       "        text-align: right;\n",
       "    }\n",
       "</style>\n",
       "<table border=\"1\" class=\"dataframe\">\n",
       "  <thead>\n",
       "    <tr style=\"text-align: right;\">\n",
       "      <th></th>\n",
       "      <th>Names</th>\n",
       "      <th>Age</th>\n",
       "      <th>City</th>\n",
       "    </tr>\n",
       "  </thead>\n",
       "  <tbody>\n",
       "    <tr>\n",
       "      <th>0</th>\n",
       "      <td>Ramesh</td>\n",
       "      <td>31.0</td>\n",
       "      <td>NaN</td>\n",
       "    </tr>\n",
       "    <tr>\n",
       "      <th>1</th>\n",
       "      <td>Suresh</td>\n",
       "      <td>32.0</td>\n",
       "      <td>Hyderabad</td>\n",
       "    </tr>\n",
       "    <tr>\n",
       "      <th>2</th>\n",
       "      <td>Suresh</td>\n",
       "      <td>33.0</td>\n",
       "      <td>Pune</td>\n",
       "    </tr>\n",
       "    <tr>\n",
       "      <th>3</th>\n",
       "      <td>Mahesh</td>\n",
       "      <td>33.0</td>\n",
       "      <td>Mumbai</td>\n",
       "    </tr>\n",
       "    <tr>\n",
       "      <th>4</th>\n",
       "      <td>Sathish</td>\n",
       "      <td>40.0</td>\n",
       "      <td>Chennai</td>\n",
       "    </tr>\n",
       "  </tbody>\n",
       "</table>\n",
       "</div>"
      ],
      "text/plain": [
       "     Names   Age       City\n",
       "0   Ramesh  31.0        NaN\n",
       "1   Suresh  32.0  Hyderabad\n",
       "2   Suresh  33.0       Pune\n",
       "3   Mahesh  33.0     Mumbai\n",
       "4  Sathish  40.0    Chennai"
      ]
     },
     "execution_count": 28,
     "metadata": {},
     "output_type": "execute_result"
    }
   ],
   "source": [
    "data1.fillna(method='ffill')  \n",
    "# Fills with the before index value"
   ]
  },
  {
   "cell_type": "code",
   "execution_count": 29,
   "id": "f835cecd",
   "metadata": {},
   "outputs": [
    {
     "data": {
      "text/html": [
       "<div>\n",
       "<style scoped>\n",
       "    .dataframe tbody tr th:only-of-type {\n",
       "        vertical-align: middle;\n",
       "    }\n",
       "\n",
       "    .dataframe tbody tr th {\n",
       "        vertical-align: top;\n",
       "    }\n",
       "\n",
       "    .dataframe thead th {\n",
       "        text-align: right;\n",
       "    }\n",
       "</style>\n",
       "<table border=\"1\" class=\"dataframe\">\n",
       "  <thead>\n",
       "    <tr style=\"text-align: right;\">\n",
       "      <th></th>\n",
       "      <th>Names</th>\n",
       "      <th>Age</th>\n",
       "      <th>City</th>\n",
       "    </tr>\n",
       "  </thead>\n",
       "  <tbody>\n",
       "    <tr>\n",
       "      <th>0</th>\n",
       "      <td>Ramesh</td>\n",
       "      <td>31.0</td>\n",
       "      <td>NaN</td>\n",
       "    </tr>\n",
       "    <tr>\n",
       "      <th>1</th>\n",
       "      <td>Suresh</td>\n",
       "      <td>32.0</td>\n",
       "      <td>Hyderabad</td>\n",
       "    </tr>\n",
       "    <tr>\n",
       "      <th>2</th>\n",
       "      <td>Suresh</td>\n",
       "      <td>33.0</td>\n",
       "      <td>Pune</td>\n",
       "    </tr>\n",
       "    <tr>\n",
       "      <th>3</th>\n",
       "      <td>Mahesh</td>\n",
       "      <td>33.0</td>\n",
       "      <td>Mumbai</td>\n",
       "    </tr>\n",
       "    <tr>\n",
       "      <th>4</th>\n",
       "      <td>Sathish</td>\n",
       "      <td>40.0</td>\n",
       "      <td>Chennai</td>\n",
       "    </tr>\n",
       "  </tbody>\n",
       "</table>\n",
       "</div>"
      ],
      "text/plain": [
       "     Names   Age       City\n",
       "0   Ramesh  31.0        NaN\n",
       "1   Suresh  32.0  Hyderabad\n",
       "2   Suresh  33.0       Pune\n",
       "3   Mahesh  33.0     Mumbai\n",
       "4  Sathish  40.0    Chennai"
      ]
     },
     "execution_count": 29,
     "metadata": {},
     "output_type": "execute_result"
    }
   ],
   "source": [
    "data1.fillna(method='pad') # ffill and pad are same"
   ]
  },
  {
   "cell_type": "markdown",
   "id": "28d2b8a7",
   "metadata": {},
   "source": [
    "$Method-4$\n",
    ">- Mean\n",
    ">- Median\n",
    ">- Mode"
   ]
  },
  {
   "cell_type": "code",
   "execution_count": 30,
   "id": "d41fd2ed",
   "metadata": {},
   "outputs": [
    {
     "data": {
      "text/plain": [
       "34.0"
      ]
     },
     "execution_count": 30,
     "metadata": {},
     "output_type": "execute_result"
    }
   ],
   "source": [
    "age_mean = data1['Age'].mean()\n",
    "age_mean"
   ]
  },
  {
   "cell_type": "code",
   "execution_count": 36,
   "id": "55b7bf91",
   "metadata": {},
   "outputs": [
    {
     "data": {
      "text/html": [
       "<div>\n",
       "<style scoped>\n",
       "    .dataframe tbody tr th:only-of-type {\n",
       "        vertical-align: middle;\n",
       "    }\n",
       "\n",
       "    .dataframe tbody tr th {\n",
       "        vertical-align: top;\n",
       "    }\n",
       "\n",
       "    .dataframe thead th {\n",
       "        text-align: right;\n",
       "    }\n",
       "</style>\n",
       "<table border=\"1\" class=\"dataframe\">\n",
       "  <thead>\n",
       "    <tr style=\"text-align: right;\">\n",
       "      <th></th>\n",
       "      <th>Names</th>\n",
       "      <th>Age</th>\n",
       "      <th>City</th>\n",
       "    </tr>\n",
       "  </thead>\n",
       "  <tbody>\n",
       "    <tr>\n",
       "      <th>0</th>\n",
       "      <td>Ramesh</td>\n",
       "      <td>31.0</td>\n",
       "      <td>NaN</td>\n",
       "    </tr>\n",
       "    <tr>\n",
       "      <th>1</th>\n",
       "      <td>Suresh</td>\n",
       "      <td>32.0</td>\n",
       "      <td>Hyderabad</td>\n",
       "    </tr>\n",
       "    <tr>\n",
       "      <th>2</th>\n",
       "      <td>NaN</td>\n",
       "      <td>33.0</td>\n",
       "      <td>Pune</td>\n",
       "    </tr>\n",
       "    <tr>\n",
       "      <th>3</th>\n",
       "      <td>Mahesh</td>\n",
       "      <td>34.0</td>\n",
       "      <td>Mumbai</td>\n",
       "    </tr>\n",
       "    <tr>\n",
       "      <th>4</th>\n",
       "      <td>Sathish</td>\n",
       "      <td>40.0</td>\n",
       "      <td>Chennai</td>\n",
       "    </tr>\n",
       "  </tbody>\n",
       "</table>\n",
       "</div>"
      ],
      "text/plain": [
       "     Names   Age       City\n",
       "0   Ramesh  31.0        NaN\n",
       "1   Suresh  32.0  Hyderabad\n",
       "2      NaN  33.0       Pune\n",
       "3   Mahesh  34.0     Mumbai\n",
       "4  Sathish  40.0    Chennai"
      ]
     },
     "execution_count": 36,
     "metadata": {},
     "output_type": "execute_result"
    }
   ],
   "source": [
    "data1['Age'].fillna(age_mean,inplace=True)\n",
    "data1"
   ]
  },
  {
   "cell_type": "code",
   "execution_count": 37,
   "id": "0cee3f91",
   "metadata": {},
   "outputs": [
    {
     "data": {
      "text/html": [
       "<div>\n",
       "<style scoped>\n",
       "    .dataframe tbody tr th:only-of-type {\n",
       "        vertical-align: middle;\n",
       "    }\n",
       "\n",
       "    .dataframe tbody tr th {\n",
       "        vertical-align: top;\n",
       "    }\n",
       "\n",
       "    .dataframe thead th {\n",
       "        text-align: right;\n",
       "    }\n",
       "</style>\n",
       "<table border=\"1\" class=\"dataframe\">\n",
       "  <thead>\n",
       "    <tr style=\"text-align: right;\">\n",
       "      <th></th>\n",
       "      <th>Names</th>\n",
       "      <th>Age</th>\n",
       "      <th>City</th>\n",
       "    </tr>\n",
       "  </thead>\n",
       "  <tbody>\n",
       "    <tr>\n",
       "      <th>0</th>\n",
       "      <td>Ramesh</td>\n",
       "      <td>31.0</td>\n",
       "      <td>NaN</td>\n",
       "    </tr>\n",
       "    <tr>\n",
       "      <th>1</th>\n",
       "      <td>Suresh</td>\n",
       "      <td>32.0</td>\n",
       "      <td>Hyderabad</td>\n",
       "    </tr>\n",
       "    <tr>\n",
       "      <th>2</th>\n",
       "      <td>NaN</td>\n",
       "      <td>33.0</td>\n",
       "      <td>Pune</td>\n",
       "    </tr>\n",
       "    <tr>\n",
       "      <th>3</th>\n",
       "      <td>Mahesh</td>\n",
       "      <td>NaN</td>\n",
       "      <td>Mumbai</td>\n",
       "    </tr>\n",
       "    <tr>\n",
       "      <th>4</th>\n",
       "      <td>Sathish</td>\n",
       "      <td>40.0</td>\n",
       "      <td>Chennai</td>\n",
       "    </tr>\n",
       "  </tbody>\n",
       "</table>\n",
       "</div>"
      ],
      "text/plain": [
       "     Names   Age       City\n",
       "0   Ramesh  31.0        NaN\n",
       "1   Suresh  32.0  Hyderabad\n",
       "2      NaN  33.0       Pune\n",
       "3   Mahesh   NaN     Mumbai\n",
       "4  Sathish  40.0    Chennai"
      ]
     },
     "execution_count": 37,
     "metadata": {},
     "output_type": "execute_result"
    }
   ],
   "source": [
    "dict1={'Names':['Ramesh','Suresh',np.nan,'Mahesh','Sathish'],\n",
    "       'Age':[31,32,33,np.nan,40],\n",
    "      'City':[np.nan,'Hyderabad','Pune','Mumbai','Chennai']}\n",
    "data1=pd.DataFrame(dict1)\n",
    "data1"
   ]
  },
  {
   "cell_type": "code",
   "execution_count": 39,
   "id": "83e58fc9",
   "metadata": {},
   "outputs": [
    {
     "data": {
      "text/plain": [
       "32.5"
      ]
     },
     "execution_count": 39,
     "metadata": {},
     "output_type": "execute_result"
    }
   ],
   "source": [
    "age_median = data1['Age'].median()\n",
    "age_median"
   ]
  },
  {
   "cell_type": "code",
   "execution_count": 40,
   "id": "aa2205ef",
   "metadata": {},
   "outputs": [
    {
     "data": {
      "text/plain": [
       "0    31.0\n",
       "1    32.0\n",
       "2    33.0\n",
       "3    32.5\n",
       "4    40.0\n",
       "Name: Age, dtype: float64"
      ]
     },
     "execution_count": 40,
     "metadata": {},
     "output_type": "execute_result"
    }
   ],
   "source": [
    "data1['Age'].fillna(age_median)"
   ]
  },
  {
   "cell_type": "code",
   "execution_count": 42,
   "id": "bfe252d8",
   "metadata": {},
   "outputs": [
    {
     "data": {
      "text/plain": [
       "0    31.0\n",
       "1    32.0\n",
       "2    33.0\n",
       "3    40.0\n",
       "Name: Age, dtype: float64"
      ]
     },
     "execution_count": 42,
     "metadata": {},
     "output_type": "execute_result"
    }
   ],
   "source": [
    "age_mode = data1['Age'].mode()\n",
    "age_mode"
   ]
  },
  {
   "cell_type": "markdown",
   "id": "b9c617bd",
   "metadata": {},
   "source": [
    "$Method-5$\n",
    ">##### KNN imputer"
   ]
  },
  {
   "cell_type": "markdown",
   "id": "bf837645",
   "metadata": {},
   "source": [
    "- KNN: K Nearest Neighbours\n",
    "- In the KNN imputer instead of taking mean of all the values\n",
    "- Will choose neighbour data\n",
    "- Will take those mean only"
   ]
  },
  {
   "cell_type": "markdown",
   "id": "e80cf9e2",
   "metadata": {},
   "source": [
    "<img src=\"data:image/png;base64,iVBORw0KGgoAAAANSUhEUgAAATMAAACkCAMAAADMkjkjAAAAkFBMVEXn5+jq6uzW1texsbLGxse9u73t7e7Nzc4AAACoqarv7/Dj4+R1dXXm5ueamZrT09Td3d6Pjo+Mi4x+fX7BwcK5ubp6eXqgoKEiHiC0tLWenZ7HyMhqaGmEg4Snp6hhX2BQTk8xLi9wbnBHRUY7ODkWDxFWV1knIyQLAAUbFBVlY2VKR0kyLy9VU1U6NzgYEhWVzFddAAAMVUlEQVR4nO1d62KjKhB20IwJKOIt1iTaNtt02+7p7vu/3QFz37ZRjDbq+v1oM1EBv8AwDDAYPDVH6CD1jSXCCB3gxLDAGKEDGDnTxsiZPkbO9DFypo+RM32MnOlj5EwfI2f60OUM5M3/OseanIFlASaivfL0Abr1TMxpPvvHK5ouZ8iTBbZWmpZRKBb1tvDha61kdPWZWFG9HLoD8GIG9hIMN96/svrv2p4eadqcRWZfWybkwcQhUYrgesqlI+sXmgTASjJTq6ppczbT/FE6hDVFkS3n/owmbhZ6wOez9zkzAIkPvkY62vaZbuPvDkiGBsyXC5qxbBF7c9OkuCDydTAk4Gok9A/ZtGxNgYXLlC5I4M9SixNELlsNJjHVsjmHzxng7v0w4dHctlZLh2aRb3teOCF54mK+iiPD1Elx6JyB6dt70uyUACMxoyG1TQEkEq7lgmdFtmHrJDlwztCZvkz3b7i1zQAXOezNtMJiU32oRpoD5wzI5u5u4/xthV/3xgPnjNovd3cvWbMjl0FzBob/+va6eRJw+t3Hu3STHS5ngOnjL5t6vntK2dKQphgw9bmwyeRoSjvhwXJG7Yc7k4IhpqeUxROcMwxVVwrLBRqOgEna8hi9L0ARTn1X6bFzzkIEa+FHxVfgYCbJA111N0zOAJLXFdlSwZ5PLogADfqebq9AvIrkJ/Q1fajfwtk1C0rqZIfR01O0N/+NU9+V8BEXiS8Hnkr1i0xdw4Wnmf43cCbsK0C0s6PkbZocyWbByTWW0TyhIRE2eLKeSU3mCTlm18vgGzhDJ5/VRq5bOnSDachONNSZPsNAyIZJliSJMoSlbJQeZ0H39Jn8bRGAyjHLbqGb+q++QqSHpW94+FbhcDOlmi5UMO+e7TMOzvsAL1cXQcwisR04LaOZ3bl+E6IZkhmYUstsCwcRMdBksHBJYu+m/iCyiAU42WkWE4BMwODU1JuvodbDY4rnj7D8rDSFvhfZ7qUhCoT2LFr7nEkVK3sm5JYd7rK0fTqTCsdOkMRgMNXxy/6eOdTOdo/MhbtmBpgWTXRyYs7OvjjDZ/MXrnv4oONt3L1Ay5yBgZKIUL7IOtt6FWSzy1JfvggNWS5NTtsnrkE4YpLOcdfH2jxU4x3mx9XbDcBiuhYfCRKPTb5PkVPLnC0FC6js4YG8y8ZmuHEsabDWRR8fWKkHFl/nrOjB2IMqjy3vcOlbwRWE6aRiNQAaP/6wPtN+Z/qsEbTMGXOyZQpC0rZ217IquLa9JJDGyjzCsFDCLKfFbBZ4XJpNQJa27UK41XPzql0A9e7vZp8bc73jDMRTImR9keM6nE28eOvf49LosiQxR9Uj+3uIY2AxKe6QFdNwLVQsVgGy7CVjX9zrao/By9B228TVmyRpZilNZTBza6GqRuq7ZnTMGH1W3CAS2N8hfFptUAN0tnn2vp6pbnx1Set9QFpYjNuJa5Yf6gKY7MydIAoCIT7OnmJuxBVKBtT68RhfaMNiql/qkizbtjXc4mfeGmaJefjNIWJ/LZpQf4h/LAzEVQablKw3/OKNvdNnf2V20V+qgKV3nCfo8hepKS/ew56qFE0HffYFAcb/fW5fnKHxZUw95ox676+zcmOE6QwlKuHGnNXPGln42UDpI3quzz5AmDUbDkBy90YqPTw0zshzWoc0wOjHU4zVys3CGjlczv6mnIH3EOuTRsXq1BFblkfj6zJvrc/0SUPDP3fElkCshtU2lR/jPdIhDdD8+W5rPAHewPSZBFoPGqRR+/3RrKjIthgiZ4q0qo7Fwr7QaJYFWKRfpsu4PWcGTn5VIg0wmb4RfY2uORNXoSC358zA+L18MTjQyeOPSHMaSj3n/Rle25RA85mUFAK9t9e8zqw6eC+D5MzA2WXSkAUbHfviBOC9DpMzRZr4shjSvrh7t2ubpvqTcSXoCGcGTe6/IA3o8sfPS47YEjCrdqG+QFc4M3Dxxj4rCIr1C7/C/zFI+2wP4Cv3wxYacPlmXc1/8VWyQ+bMQN+B83lzoPHvCo7YyyCDG2+eArMw80/qFPXuX2rZF2cYnF/jDEys3p8PM1PIsmlWxRFbApENuJ6B7Ty8P+wWTwHkr/deA9Mfw9ZnkqfIebgv5obR+vVfVUdsSaLD5qxgbZWCsi+mlyd6NSAWw+ZM1TBpWfBp2USvToqD7gMKAE1//rKvtC9OQX4MvZ6h/f5TLwpBCY5+Dcbk2HPnTGP7lbW1kuwUZ8q+COr5L77CsQ8gAUK4XcyF3MZlUPe9u8QZYvJyX8MRexnuflcGzo3AOvDHnNopdoczoNHvpxqO2DIcOAP7eaKWDiKigUF9yrrDGfVWr0kLYcJO7bM5VcvaAt9nmEf1s+oIZ+j6m3lz9sUJjn0AWDkYbLvxDMMrPJGd4ExN9D7Ud8ReTpv8t38/jwDbb2yJtvsS6yXZAc72O3rbAZwyI0k7LHLGpLecoXCmfvOLEQ8Qp4G0WHC0yrDiSvoPuDVnYCw2q6scsWUZ2JuT1NnpftC6Ru2N11Lh5HediV6dLOzXs8bZRJK35IyS++n1jtgSkNr2/le4IWdqoBQ24IgtwYD8GgCzZhyxZfl4Q5lDAbQeHptxxJblZN81/cPchrNrJ3o1cN5vNpPkDThD4J/u6G0HbNL/tlmEPrp2olcH/V/jgt7zzy929LYCsJ96Xs+Kid5mHbEl6HsfADTf3F/Y0dtKnvbPHnMG1Hp6nHyjItvn23iC38YZJas/ixtEUe7vWnd0eUuO2BKA/aefbXMXWvEWg7S+9gHUe2/REXsZ/RxvFqEVW3TElqCHfo3T0Io3AeE9q2d/hVa8AXrXB0j7QmNHbyvomV/jQ2jFm0A0frRSe5ypHTfPLU306pWj8RTb4gyXH0Mr3gLgPfSknqGYV4sY0jr6YtOq0Iqrb3PEXgZYjz3g7OvQijcB04wMXY7mOUPv/q71iV4NuJ2Ps4cs23yvI7YEED11u21K++L1UmjFG6C7nKnw2EVoxWt29LYCsO67yRlYTuhRURZa8SboqE0L3mbz8pu/htK+kDVOrVqHXdW7uQSi8cMvm+Esn97dbR7MhMfU5Jy4C74Am/PJXkpwyXmEUhKM8xykNMHZXrLVtb1ELc6tQhJSQilFkO8kkNKykOSdJkZSQikxwvmMRrtrhaSu2ZBIScy7aZ9BKjmberbjJJQ7ju3OnRAix5lJae1JKaNSMtU1IhwnKK6hLyXmOJmSUrqTAhpvpbUgewkDxxHyOR+lNNlKa4dT03GiQvKcrVRcY1LylWRhJiWy9jtZzwwMpn8WWJyQoM5RUH+MzyXjRMIziVaW1HP09BpspV1W59cM7KY+U+uhPw30MEzceg1yHzFypo+RM310jzM4rrAAo4XVFtejc5wJSw5at7t5QR34oXsA3zegJmftvQisMNkfvMCXNOvWL1pAnzP52yN4TIVdOX5lNBY+HaJ5rrZZqh2DLOOTDrmV9tA/U950Ap9ygkCi4gg+QCjC8vrqCJjrC4TpgzpU1I6iyMVs1kHK9DkTc0rzOM8TwZZskUgOefJLJiEmHMX1ygeiYMkR0LOspYGZ28VOQJczmKhzrIIkF3PBfTs1k5nw5uqC8JFdfcQN2CHi3DXT7QE9IRqkcbfE1dDmzJLjSo/nhGZksU54HCKw4hhL4TfRNrc9Ji62kqxmIu89Z7JfI2xOeM4csfA92belQhQxBFQ90z8s8/M80mMUURgAZwbjgY1LU3m0DO4LmHGRqiACLIIG9FkBN58cBd2THttHDfus8IDK3pKbCEW8it15OtCcvi4/oOeWuGIc0Phca19wBWfdqwDfhM6NN3uAepyBOGovKNQPazzifHdRjzOxYBy3Z7GDD2Dn4DY+U9Fd1OJMnQ8ceH5xbCHkEXOYAUn3bIK2UK+eyTEN+7VzObB5yKTxYScjZ5fAMsRktXsOw+KQidoRi/qHmvWMzha4Vs+5BsyLU9rtutF3+od6+iyQDEFOmO974C5QHQc8+3dMllqcgZcUrlQjV/Fy1fgpx8ajWncXNe2zraNMpLvlecxkZYfADAhXzaEcDFn3H7Jox7HTGQRUivQ7cnYE5DFdVDhFdeTsFGuzSozHkbMTUD+ssuZ85OwIjHmlsLUjZwdAlNG4yozNyNkBoCZuqoSUHjk7ourSrZEzfYyc6WPkTB8jZ/oYOdPHyJk+Rs70MXKmj5EzfYyc6WPkTB8jZ/qQnMVkhB7M/wFSd50IrLHZCgAAAABJRU5ErkJggg==\" data-deferred=\"1\" class=\"rg_i Q4LuWd\" jsname=\"Q4LuWd\" width=\"307\" height=\"165\" alt=\"An example of Euclidean distance between two objects on variables X and Y |  Download Scientific Diagram\" data-iml=\"1104.2999997138977\" data-atf=\"false\">"
   ]
  },
  {
   "cell_type": "code",
   "execution_count": 45,
   "id": "2eddd2fc",
   "metadata": {},
   "outputs": [
    {
     "data": {
      "text/plain": [
       "array([[31.],\n",
       "       [32.],\n",
       "       [33.],\n",
       "       [34.],\n",
       "       [40.]])"
      ]
     },
     "execution_count": 45,
     "metadata": {},
     "output_type": "execute_result"
    }
   ],
   "source": [
    "from sklearn.impute import KNNImputer\n",
    "knn=KNNImputer(n_neighbors=2) # n_neighbours is called hyper parameter\n",
    "knn.fit_transform(data1[['Age']])"
   ]
  },
  {
   "cell_type": "markdown",
   "id": "95d0e7c2",
   "metadata": {},
   "source": [
    "$Method-6$\n",
    ">- Based on other columns\n",
    ">- Some times all above methods will not provide good justification\n",
    ">- At that time we need to check other column dependancy also\n",
    ">- Most of the time will pick a column which have highest correlation"
   ]
  },
  {
   "cell_type": "code",
   "execution_count": null,
   "id": "70dcb73d",
   "metadata": {},
   "outputs": [],
   "source": []
  },
  {
   "cell_type": "code",
   "execution_count": null,
   "id": "d3c6c7b1",
   "metadata": {},
   "outputs": [],
   "source": []
  },
  {
   "cell_type": "code",
   "execution_count": null,
   "id": "2f24e47b",
   "metadata": {},
   "outputs": [],
   "source": []
  },
  {
   "cell_type": "code",
   "execution_count": null,
   "id": "65c36280",
   "metadata": {},
   "outputs": [],
   "source": []
  },
  {
   "cell_type": "code",
   "execution_count": null,
   "id": "95ed1ec9",
   "metadata": {},
   "outputs": [],
   "source": []
  }
 ],
 "metadata": {
  "kernelspec": {
   "display_name": "Python 3 (ipykernel)",
   "language": "python",
   "name": "python3"
  },
  "language_info": {
   "codemirror_mode": {
    "name": "ipython",
    "version": 3
   },
   "file_extension": ".py",
   "mimetype": "text/x-python",
   "name": "python",
   "nbconvert_exporter": "python",
   "pygments_lexer": "ipython3",
   "version": "3.11.5"
  }
 },
 "nbformat": 4,
 "nbformat_minor": 5
}
